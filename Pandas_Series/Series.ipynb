{
 "cells": [
  {
   "cell_type": "markdown",
   "metadata": {},
   "source": [
    "<div>\n",
    "    <h1 align=\"center\" style=\"padding: 10px 0; border-bottom: 2px dashed blue\">Pandas Series</h1>\n",
    "</div>"
   ]
  },
  {
   "cell_type": "markdown",
   "metadata": {},
   "source": [
    "<h3>1. Create a Series from a Python List</h3>\n",
    "<p> Series is a one dimesional labeled array that stores data in a sequenced order.\n",
    "</p>\n",
    "<ul>\n",
    "    <li>cosistenency of the data type in the Series is important</li>\n",
    "    <li>inlike a python list a Series allows you to have a string indentifier (index)\n",
    "   \n",
    "</ul>\n"
   ]
  },
  {
   "cell_type": "code",
   "execution_count": 1,
   "metadata": {},
   "outputs": [],
   "source": [
    "#import tha pandas library\n",
    "import pandas as pd"
   ]
  },
  {
   "cell_type": "markdown",
   "metadata": {},
   "source": [
    "<p>creating a pandas Series from a python list</p>"
   ]
  },
  {
   "cell_type": "code",
   "execution_count": 2,
   "metadata": {},
   "outputs": [
    {
     "data": {
      "text/plain": [
       "0     that\n",
       "1     this\n",
       "2    these\n",
       "3    there\n",
       "dtype: object"
      ]
     },
     "execution_count": 2,
     "metadata": {},
     "output_type": "execute_result"
    }
   ],
   "source": [
    "#my sample_list \n",
    "sample_list = [\"that\", \"this\", \"these\", \"there\"]\n",
    "#call the Series constructor which will construct a pandas series\n",
    "Series_from_list = pd.Series(sample_list)\n",
    "Series_from_list"
   ]
  },
  {
   "cell_type": "code",
   "execution_count": 3,
   "metadata": {},
   "outputs": [
    {
     "data": {
      "text/plain": [
       "0     1\n",
       "1    23\n",
       "2     4\n",
       "3     5\n",
       "4     5\n",
       "5     6\n",
       "dtype: int64"
      ]
     },
     "execution_count": 3,
     "metadata": {},
     "output_type": "execute_result"
    }
   ],
   "source": [
    "Int_list = [1,23,4,5,5,6]\n",
    "pd.Series(Int_list) #not by defaulft pandas give an index if not specified"
   ]
  },
  {
   "cell_type": "markdown",
   "metadata": {},
   "source": [
    "<p>Create a pandas Series from a Python Dictionary</p>\n",
    "    <ul>\n",
    "        <li>N.B dict keys are used as index values , the index is not defualt</li>\n",
    "    </ul>"
   ]
  },
  {
   "cell_type": "code",
   "execution_count": 4,
   "metadata": {},
   "outputs": [
    {
     "data": {
      "text/plain": [
       "brand       Ford\n",
       "model    Mustang\n",
       "year        1964\n",
       "dtype: object"
      ]
     },
     "execution_count": 4,
     "metadata": {},
     "output_type": "execute_result"
    }
   ],
   "source": [
    "#declare a Python Dictionary\n",
    "thisdict = {\n",
    "  \"brand\": \"Ford\",\n",
    "  \"model\": \"Mustang\",\n",
    "  \"year\": 1964\n",
    "}\n",
    "#use the Series constructor to create a pandas series from the constructor\n",
    "pd.Series(thisdict)"
   ]
  },
  {
   "cell_type": "markdown",
   "metadata": {},
   "source": [
    "<p>attributes and methods of a Series</p>\n",
    "<p>attri</p>"
   ]
  },
  {
   "cell_type": "code",
   "execution_count": 5,
   "metadata": {},
   "outputs": [
    {
     "data": {
      "text/plain": [
       "0     yes\n",
       "1      no\n",
       "2    yeah\n",
       "3     nah\n",
       "4    yeap\n",
       "5    nope\n",
       "dtype: object"
      ]
     },
     "execution_count": 5,
     "metadata": {},
     "output_type": "execute_result"
    }
   ],
   "source": [
    "Another_list = [\"yes\", \"no\", \"yeah\", \"nah\", \"yeap\", \"nope\"]\n",
    "a = pd.Series(Another_list)\n",
    "a"
   ]
  },
  {
   "cell_type": "markdown",
   "metadata": {},
   "source": [
    "<h4>Series attributes</h4>\n",
    "<p>the attributes of a series object will give you information about the object but do not make any changes to the object</p>"
   ]
  },
  {
   "cell_type": "code",
   "execution_count": 6,
   "metadata": {},
   "outputs": [
    {
     "data": {
      "text/plain": [
       "array(['yes', 'no', 'yeah', 'nah', 'yeap', 'nope'], dtype=object)"
      ]
     },
     "execution_count": 6,
     "metadata": {},
     "output_type": "execute_result"
    }
   ],
   "source": [
    "#values attribute returns an np array with the value of the series\n",
    "a.values"
   ]
  },
  {
   "cell_type": "code",
   "execution_count": 7,
   "metadata": {},
   "outputs": [
    {
     "data": {
      "text/plain": [
       "RangeIndex(start=0, stop=6, step=1)"
      ]
     },
     "execution_count": 7,
     "metadata": {},
     "output_type": "execute_result"
    }
   ],
   "source": [
    "#index attribute\n",
    "a.index"
   ]
  },
  {
   "cell_type": "code",
   "execution_count": 8,
   "metadata": {},
   "outputs": [
    {
     "data": {
      "text/plain": [
       "dtype('O')"
      ]
     },
     "execution_count": 8,
     "metadata": {},
     "output_type": "execute_result"
    }
   ],
   "source": [
    "#check a type\n",
    "a.dtype"
   ]
  },
  {
   "cell_type": "markdown",
   "metadata": {},
   "source": [
    "<h4>intro to Methods</h4>\n",
    "<p>unlike the attribute methods can make changes on the pandas series</p>"
   ]
  },
  {
   "cell_type": "code",
   "execution_count": 9,
   "metadata": {},
   "outputs": [
    {
     "data": {
      "text/plain": [
       "0    0.5\n",
       "1    1.0\n",
       "2    1.5\n",
       "3    2.0\n",
       "4    2.5\n",
       "5    3.0\n",
       "6    3.5\n",
       "7    4.0\n",
       "8    4.5\n",
       "9    5.0\n",
       "dtype: float64"
      ]
     },
     "execution_count": 9,
     "metadata": {},
     "output_type": "execute_result"
    }
   ],
   "source": [
    "your_floats = [0.5, 1.0, 1.5, 2.0, 2.5, 3.0, 3.5, 4.0, 4.5, 5.0]\n",
    "y_f = pd.Series(your_floats)\n",
    "y_f"
   ]
  },
  {
   "cell_type": "code",
   "execution_count": 10,
   "metadata": {},
   "outputs": [
    {
     "data": {
      "text/plain": [
       "27.5"
      ]
     },
     "execution_count": 10,
     "metadata": {},
     "output_type": "execute_result"
    }
   ],
   "source": [
    "#sum method sums up all the values \n",
    "y_f.sum()"
   ]
  },
  {
   "cell_type": "code",
   "execution_count": 11,
   "metadata": {},
   "outputs": [
    {
     "data": {
      "text/plain": [
       "3543.75"
      ]
     },
     "execution_count": 11,
     "metadata": {},
     "output_type": "execute_result"
    }
   ],
   "source": [
    "#product method\n",
    "y_f.product()"
   ]
  },
  {
   "cell_type": "code",
   "execution_count": 12,
   "metadata": {},
   "outputs": [
    {
     "data": {
      "text/plain": [
       "2.75"
      ]
     },
     "execution_count": 12,
     "metadata": {},
     "output_type": "execute_result"
    }
   ],
   "source": [
    "#notice that the methods do not give you attributes of the object but the actually do calculaiton on the object.\n",
    "y_f.mean()"
   ]
  },
  {
   "cell_type": "markdown",
   "metadata": {},
   "source": [
    "<h4>parameters and arguments</h4>\n",
    "<table>\n",
    "    <tr>\n",
    "        <th>Parameter<th>\n",
    "        <th>Argument</th>\n",
    "    </tr>\n",
    "     <tr>\n",
    "        <td>Game level<th>\n",
    "        <td>Easy, Medium, Hard</td>\n",
    "    </tr>\n",
    "     <tr>\n",
    "        <td>Volume<td>\n",
    "        <td>1 through 10</td>\n",
    "    </tr>\n",
    "     <tr>\n",
    "        <td>Subtitles<td>\n",
    "        <td>True or False</td>\n",
    "    </tr>\n",
    "</table>"
   ]
  },
  {
   "cell_type": "code",
   "execution_count": 13,
   "metadata": {},
   "outputs": [],
   "source": [
    "fruits = [\"banana\", \"apple\", \"mango\", \"orange\", \"peach\"]\n",
    "week_days = [\"Mon\", \"tue\", \"wed\", \"thur\", \"fri\"]"
   ]
  },
  {
   "cell_type": "code",
   "execution_count": 14,
   "metadata": {},
   "outputs": [
    {
     "data": {
      "text/plain": [
       "Mon     banana\n",
       "tue      apple\n",
       "wed      mango\n",
       "thur    orange\n",
       "fri      peach\n",
       "dtype: object"
      ]
     },
     "execution_count": 14,
     "metadata": {},
     "output_type": "execute_result"
    }
   ],
   "source": [
    "pd.Series(fruits,index=week_days)"
   ]
  },
  {
   "cell_type": "markdown",
   "metadata": {},
   "source": [
    "<h4>import Series with the read_csv Method</h4>"
   ]
  },
  {
   "cell_type": "code",
   "execution_count": 15,
   "metadata": {},
   "outputs": [
    {
     "data": {
      "text/plain": [
       "0     Bulbasaur\n",
       "1       Ivysaur\n",
       "2      Venusaur\n",
       "3    Charmander\n",
       "4    Charmeleon\n",
       "Name: Pokemon, dtype: object"
      ]
     },
     "execution_count": 15,
     "metadata": {},
     "output_type": "execute_result"
    }
   ],
   "source": [
    "\n",
    "pokemon = pd.read_csv(\"pokemon.csv\", usecols=[\"Pokemon\"], squeeze=True)\n",
    "p_d = pokemon.copy()\n",
    "p_d.head() #view the head of the Series"
   ]
  },
  {
   "cell_type": "code",
   "execution_count": 16,
   "metadata": {},
   "outputs": [
    {
     "data": {
      "text/plain": [
       "716      Yveltal\n",
       "717      Zygarde\n",
       "718      Diancie\n",
       "719        Hoopa\n",
       "720    Volcanion\n",
       "Name: Pokemon, dtype: object"
      ]
     },
     "execution_count": 16,
     "metadata": {},
     "output_type": "execute_result"
    }
   ],
   "source": [
    "p_d.tail()#view the tail of the series"
   ]
  },
  {
   "cell_type": "code",
   "execution_count": 17,
   "metadata": {},
   "outputs": [
    {
     "data": {
      "text/plain": [
       "0    50.12\n",
       "1    54.10\n",
       "2    54.65\n",
       "3    52.38\n",
       "4    52.95\n",
       "Name: Stock Price, dtype: float64"
      ]
     },
     "execution_count": 17,
     "metadata": {},
     "output_type": "execute_result"
    }
   ],
   "source": [
    "#read another data\n",
    "google = pd.read_csv(\"google_stock_price.csv\" ,squeeze =True) #squeezee the column\n",
    "google.head()"
   ]
  },
  {
   "cell_type": "code",
   "execution_count": 18,
   "metadata": {},
   "outputs": [
    {
     "name": "stdout",
     "output_type": "stream",
     "text": [
      "google series lenght : 3012\n",
      "pokemon series lenght : 721\n"
     ]
    }
   ],
   "source": [
    "#pass the series to the builtin functions of python\n",
    "print(\"google series lenght : \" + str(len(google)))\n",
    "print(\"pokemon series lenght : \" + str(len(p_d)))"
   ]
  },
  {
   "cell_type": "code",
   "execution_count": 19,
   "metadata": {},
   "outputs": [
    {
     "data": {
      "text/plain": [
       "[49.95, 50.07, 50.12, 50.7, 50.74]"
      ]
     },
     "execution_count": 19,
     "metadata": {},
     "output_type": "execute_result"
    }
   ],
   "source": [
    "#check the object type\n",
    "type(google)\n",
    "type(p_d)\n",
    "#sort the list\n",
    "sorted(google)[:5]\n",
    "#use the dir function\n",
    "#dir(pokemon)"
   ]
  },
  {
   "cell_type": "code",
   "execution_count": 20,
   "metadata": {},
   "outputs": [
    {
     "data": {
      "text/plain": [
       "782.22"
      ]
     },
     "execution_count": 20,
     "metadata": {},
     "output_type": "execute_result"
    }
   ],
   "source": [
    "# craete a list of a dictionary from a pandas series\n",
    "list(google)[:3] #create a goole list and select the first 3 items\n",
    "dict(google) #cretates a python dict\n",
    "min(google)\n",
    "max(google)"
   ]
  },
  {
   "cell_type": "markdown",
   "metadata": {},
   "source": [
    "<h4>More Series attributes</h4>"
   ]
  },
  {
   "cell_type": "code",
   "execution_count": 21,
   "metadata": {},
   "outputs": [
    {
     "data": {
      "text/plain": [
       "array([ 50.12,  54.1 ,  54.65, ..., 773.18, 771.61, 782.22])"
      ]
     },
     "execution_count": 21,
     "metadata": {},
     "output_type": "execute_result"
    }
   ],
   "source": [
    "google.values"
   ]
  },
  {
   "cell_type": "code",
   "execution_count": 22,
   "metadata": {},
   "outputs": [
    {
     "data": {
      "text/plain": [
       "RangeIndex(start=0, stop=3012, step=1)"
      ]
     },
     "execution_count": 22,
     "metadata": {},
     "output_type": "execute_result"
    }
   ],
   "source": [
    "google.index"
   ]
  },
  {
   "cell_type": "code",
   "execution_count": 23,
   "metadata": {},
   "outputs": [
    {
     "data": {
      "text/plain": [
       "pandas.core.series.Series"
      ]
     },
     "execution_count": 23,
     "metadata": {},
     "output_type": "execute_result"
    }
   ],
   "source": [
    "#check the data type\n",
    "type(google)"
   ]
  },
  {
   "cell_type": "code",
   "execution_count": 24,
   "metadata": {},
   "outputs": [
    {
     "data": {
      "text/plain": [
       "dtype('float64')"
      ]
     },
     "execution_count": 24,
     "metadata": {},
     "output_type": "execute_result"
    }
   ],
   "source": [
    "google.dtype"
   ]
  },
  {
   "cell_type": "code",
   "execution_count": 25,
   "metadata": {},
   "outputs": [
    {
     "data": {
      "text/plain": [
       "True"
      ]
     },
     "execution_count": 25,
     "metadata": {},
     "output_type": "execute_result"
    }
   ],
   "source": [
    "#check for unique vales\n",
    "pokemon.is_unique"
   ]
  },
  {
   "cell_type": "code",
   "execution_count": 26,
   "metadata": {},
   "outputs": [
    {
     "data": {
      "text/plain": [
       "False"
      ]
     },
     "execution_count": 26,
     "metadata": {},
     "output_type": "execute_result"
    }
   ],
   "source": [
    "google.is_unique #the values in the google dataset have duplicates"
   ]
  },
  {
   "cell_type": "code",
   "execution_count": 27,
   "metadata": {},
   "outputs": [
    {
     "data": {
      "text/plain": [
       "1"
      ]
     },
     "execution_count": 27,
     "metadata": {},
     "output_type": "execute_result"
    }
   ],
   "source": [
    "#check the number of dimensions in the series\n",
    "google.ndim #a series will always return 1 hence it is a one dimension"
   ]
  },
  {
   "cell_type": "code",
   "execution_count": 28,
   "metadata": {},
   "outputs": [
    {
     "data": {
      "text/plain": [
       "(3012,)"
      ]
     },
     "execution_count": 28,
     "metadata": {},
     "output_type": "execute_result"
    }
   ],
   "source": [
    "#shape return a tuple with the number of rows by the number of columns\n",
    "google.shape #notte it also counts the null values"
   ]
  },
  {
   "cell_type": "code",
   "execution_count": 29,
   "metadata": {},
   "outputs": [
    {
     "data": {
      "text/plain": [
       "3012"
      ]
     },
     "execution_count": 29,
     "metadata": {},
     "output_type": "execute_result"
    }
   ],
   "source": [
    "#size works similar to value counts, it couynts the number of values in a series\n",
    "google.size\n"
   ]
  },
  {
   "cell_type": "code",
   "execution_count": 30,
   "metadata": {},
   "outputs": [
    {
     "data": {
      "text/plain": [
       "'Pokemon'"
      ]
     },
     "execution_count": 30,
     "metadata": {},
     "output_type": "execute_result"
    }
   ],
   "source": [
    "#get the name attr\n",
    "pokemon.name"
   ]
  },
  {
   "cell_type": "markdown",
   "metadata": {},
   "source": [
    "### .sort_values method"
   ]
  },
  {
   "cell_type": "code",
   "execution_count": 31,
   "metadata": {},
   "outputs": [
    {
     "data": {
      "text/plain": [
       "459    Abomasnow\n",
       "62          Abra\n",
       "358        Absol\n",
       "616     Accelgor\n",
       "680    Aegislash\n",
       "Name: Pokemon, dtype: object"
      ]
     },
     "execution_count": 31,
     "metadata": {},
     "output_type": "execute_result"
    }
   ],
   "source": [
    "#.sort_values returns a brand new series object that is soerted alphabetically by defaullt \n",
    "#pokemon.sort_values(ascending=False). #sort values asc\n",
    "pokemon.sort_values().head() #sort values desc \n",
    "#note on the above live we have done method chaining by calling the method right after .sort_values"
   ]
  },
  {
   "cell_type": "code",
   "execution_count": 32,
   "metadata": {},
   "outputs": [
    {
     "data": {
      "text/plain": [
       "3011    782.22\n",
       "2859    776.60\n",
       "3009    773.18\n",
       "3007    772.88\n",
       "3010    771.61\n",
       "Name: Stock Price, dtype: float64"
      ]
     },
     "execution_count": 32,
     "metadata": {},
     "output_type": "execute_result"
    }
   ],
   "source": [
    "#lets do the same with the google data set\n",
    "#print(google.sort_values().tail())\n",
    "google.sort_values(ascending=False).head()\n",
    "#note the the .sort_values does not modify a series but it just returns a brand new one"
   ]
  },
  {
   "cell_type": "markdown",
   "metadata": {},
   "source": [
    "#### using inplace parameter"
   ]
  },
  {
   "cell_type": "code",
   "execution_count": 33,
   "metadata": {},
   "outputs": [
    {
     "data": {
      "text/plain": [
       "11    49.95\n",
       "9     50.07\n",
       "0     50.12\n",
       "10    50.70\n",
       "12    50.74\n",
       "Name: Stock Price, dtype: float64"
      ]
     },
     "execution_count": 33,
     "metadata": {},
     "output_type": "execute_result"
    }
   ],
   "source": [
    "#### using inplace parameter option to make permanet changes on a data frame\n",
    "#google.sort_values()\n",
    "google.sort_values(inplace=True)\n",
    "google.head()"
   ]
  },
  {
   "cell_type": "code",
   "execution_count": 34,
   "metadata": {},
   "outputs": [
    {
     "data": {
      "text/plain": [
       "3011    782.22\n",
       "2859    776.60\n",
       "3009    773.18\n",
       "3007    772.88\n",
       "3010    771.61\n",
       "Name: Stock Price, dtype: float64"
      ]
     },
     "execution_count": 34,
     "metadata": {},
     "output_type": "execute_result"
    }
   ],
   "source": [
    "#lets sort google in descing order and makechanges to thw series object\n",
    "google.sort_values(ascending=False, inplace=True)\n",
    "google.head()"
   ]
  },
  {
   "cell_type": "markdown",
   "metadata": {},
   "source": [
    "### Sorting the index of a series"
   ]
  },
  {
   "cell_type": "code",
   "execution_count": 35,
   "metadata": {},
   "outputs": [
    {
     "data": {
      "text/plain": [
       "0    50.12\n",
       "1    54.10\n",
       "2    54.65\n",
       "3    52.38\n",
       "4    52.95\n",
       "Name: Stock Price, dtype: float64"
      ]
     },
     "execution_count": 35,
     "metadata": {},
     "output_type": "execute_result"
    }
   ],
   "source": [
    "\"\"\"\n",
    "   this is s complementary method to the .sort_values method\n",
    "   it sort the values by index, restoring the index to its original form.\n",
    "   you can use this method when you want to bring series based on a certain criteria \n",
    "   to its originak form.\n",
    "\"\"\"\n",
    "google.sort_index().head()"
   ]
  },
  {
   "cell_type": "markdown",
   "metadata": {},
   "source": [
    "### Python i keyword"
   ]
  },
  {
   "cell_type": "code",
   "execution_count": 36,
   "metadata": {},
   "outputs": [
    {
     "data": {
      "text/plain": [
       "0    Bulbasaur\n",
       "1      Ivysaur\n",
       "Name: Pokemon, dtype: object"
      ]
     },
     "execution_count": 36,
     "metadata": {},
     "output_type": "execute_result"
    }
   ],
   "source": [
    "google.head()\n",
    "pokemon[:2]"
   ]
  },
  {
   "cell_type": "code",
   "execution_count": 37,
   "metadata": {},
   "outputs": [
    {
     "data": {
      "text/plain": [
       "False"
      ]
     },
     "execution_count": 37,
     "metadata": {},
     "output_type": "execute_result"
    }
   ],
   "source": [
    "#review of the in key word returns a bool true/ fslse depending weather the value exists or not\n",
    "that_lis = [1,2,3,4,5]\n",
    "#check if 50 exists in that_lis\n",
    "50 in that_lis #note it return a false because that value doesn't exists in the list"
   ]
  },
  {
   "cell_type": "markdown",
   "metadata": {},
   "source": [
    "<p>The <strong>IN</strong> key does not work in a similar way with a pandas series, by default the <strong>IN</strong> keyword will start looking at the index, unlike in the lists where it starts looking for the values in the list values, to check in a series values we have to call the <strong>.values</strong> attribute </p>"
   ]
  },
  {
   "cell_type": "code",
   "execution_count": 38,
   "metadata": {},
   "outputs": [
    {
     "name": "stdout",
     "output_type": "stream",
     "text": [
      "I am from the list : True\n",
      "I am from the series : False\n"
     ]
    },
    {
     "data": {
      "text/plain": [
       "\"\\n    note that the words we are a searching for exists in both the list snd the series.\\n    but because the IN key word looked in the index by default it couldn't find the value\\n    , even though the value exists in the series.\\n\""
      ]
     },
     "execution_count": 38,
     "metadata": {},
     "output_type": "execute_result"
    }
   ],
   "source": [
    "#egs for a lists and a series\n",
    "#list\n",
    "word = [\"that\", \"this\", \"for\", \"far\"]\n",
    "a =\"that\" in word\n",
    "print(\"I am from the list : \" + str(a) )\n",
    "#check in the pokemon series\n",
    "b = \"Ivysaur\" in pokemon\n",
    "print(\"I am from the series : \" + str(b))\n",
    "\n",
    "\"\"\"\n",
    "    note that the words we are a searching for exists in both the list snd the series.\n",
    "    but because the IN key word looked in the index by default it couldn't find the value\n",
    "    , even though the value exists in the series.\n",
    "\"\"\""
   ]
  },
  {
   "cell_type": "code",
   "execution_count": 39,
   "metadata": {},
   "outputs": [
    {
     "data": {
      "text/plain": [
       "True"
      ]
     },
     "execution_count": 39,
     "metadata": {},
     "output_type": "execute_result"
    }
   ],
   "source": [
    "# the big question what is being done to the series on the background when we use IN key \n",
    "\"Ivysaur\" in pokemon.index #by defualt this is what happens\n",
    "100 in pokemon.index # returns true because 100 is one of the index values\n",
    "100 in pokemon.values #returns false because 100 does not exist in the values\n",
    "\"Ivysaur\" in pokemon.values #returns true because  Ivysaur exists in the series values\n"
   ]
  },
  {
   "cell_type": "markdown",
   "metadata": {},
   "source": [
    "### Extracting values from a series based on thier index location"
   ]
  },
  {
   "cell_type": "code",
   "execution_count": 40,
   "metadata": {},
   "outputs": [
    {
     "data": {
      "text/plain": [
       "0    Bulbasaur\n",
       "1      Ivysaur\n",
       "2     Venusaur\n",
       "Name: Pokemon, dtype: object"
      ]
     },
     "execution_count": 40,
     "metadata": {},
     "output_type": "execute_result"
    }
   ],
   "source": [
    "#get the head of the pokemon\n",
    "pokemon.head(3)"
   ]
  },
  {
   "cell_type": "code",
   "execution_count": 41,
   "metadata": {},
   "outputs": [
    {
     "name": "stdout",
     "output_type": "stream",
     "text": [
      "I am at index 1 :Ivysaur\n",
      "I am at index 3 :Charmander\n",
      "I am at index 2 :Venusaur\n"
     ]
    }
   ],
   "source": [
    "#let us try getting each of the top 3 values separate\n",
    "print(\"I am at index 1 :\" + pokemon[1]) #get the pokemon at index 1\n",
    "print(\"I am at index 3 :\" +pokemon[3]) #get the pokemon at index 3\n",
    "print(\"I am at index 2 :\" +pokemon[2]) #get the pokemon at index 2"
   ]
  },
  {
   "cell_type": "code",
   "execution_count": 42,
   "metadata": {},
   "outputs": [
    {
     "data": {
      "text/plain": [
       "4    Charmeleon\n",
       "5     Charizard\n",
       "6      Squirtle\n",
       "7     Wartortle\n",
       "1       Ivysaur\n",
       "8     Blastoise\n",
       "Name: Pokemon, dtype: object"
      ]
     },
     "execution_count": 42,
     "metadata": {},
     "output_type": "execute_result"
    }
   ],
   "source": [
    "\"\"\"\n",
    "    now that we know how to get a single value by indexing in a series we can then\n",
    "    move on to getting multiple s values by indexing from a series.\n",
    "    we do thar by passing in a list inside the square brackets, then a new series will be\n",
    "    returned.\n",
    "\"\"\"\n",
    "\n",
    "pokemon[[4,5,6,7,1,8]] # values are sorted in the manner in which the index values were passed"
   ]
  },
  {
   "cell_type": "code",
   "execution_count": 43,
   "metadata": {},
   "outputs": [
    {
     "data": {
      "text/plain": [
       "5    Charizard\n",
       "6     Squirtle\n",
       "7    Wartortle\n",
       "8    Blastoise\n",
       "9     Caterpie\n",
       "Name: Pokemon, dtype: object"
      ]
     },
     "execution_count": 43,
     "metadata": {},
     "output_type": "execute_result"
    }
   ],
   "source": [
    "\"\"\"\n",
    "    note that  the  slicing of a series is similar to that of a python list\n",
    "\"\"\"\n",
    "pokemon[:5] #get up to nth index\n",
    "pokemon[5:10] #get values from 5 till 9th index exclude the value in the 10 index\n"
   ]
  },
  {
   "cell_type": "markdown",
   "metadata": {},
   "source": [
    "### extract values by index label"
   ]
  },
  {
   "cell_type": "code",
   "execution_count": 44,
   "metadata": {},
   "outputs": [
    {
     "data": {
      "text/plain": [
       "Pokemon\n",
       "Bulbasaur     Grass\n",
       "Ivysaur       Grass\n",
       "Venusaur      Grass\n",
       "Charmander     Fire\n",
       "Charmeleon     Fire\n",
       "Name: Type, dtype: object"
      ]
     },
     "execution_count": 44,
     "metadata": {},
     "output_type": "execute_result"
    }
   ],
   "source": [
    "\"\"\"\n",
    "    here we will  using a column as an index\n",
    "    Note even though  we have string index values, the default integer index\n",
    "    is not lost we still have it on the background and we can still use it to\n",
    "    extraxt values by index sima=ilary to the way we did in a few cells above.\n",
    "\"\"\"\n",
    "pokemon = pd.read_csv(\"pokemon.csv\", index_col =[\"Pokemon\"],squeeze=True)\n",
    "pokemon.head()"
   ]
  },
  {
   "cell_type": "code",
   "execution_count": 45,
   "metadata": {},
   "outputs": [
    {
     "data": {
      "text/plain": [
       "Pokemon\n",
       "Diancie         Rock\n",
       "Hoopa        Psychic\n",
       "Volcanion       Fire\n",
       "Name: Type, dtype: object"
      ]
     },
     "execution_count": 45,
     "metadata": {},
     "output_type": "execute_result"
    }
   ],
   "source": [
    "#egs of int indexes\n",
    "pokemon[0] #get the first item in the series\n",
    "pokemon[:] #get all the items\n",
    "pokemon[-3:] #get the last 3 values of the series"
   ]
  },
  {
   "cell_type": "code",
   "execution_count": 46,
   "metadata": {},
   "outputs": [
    {
     "data": {
      "text/plain": [
       "['Bulbasaur',\n",
       " 'Ivysaur',\n",
       " 'Venusaur',\n",
       " 'Charmander',\n",
       " 'Charmeleon',\n",
       " 'Charizard',\n",
       " 'Squirtle',\n",
       " 'Wartortle',\n",
       " 'Blastoise',\n",
       " 'Caterpie']"
      ]
     },
     "execution_count": 46,
     "metadata": {},
     "output_type": "execute_result"
    }
   ],
   "source": [
    "\"\"\" \n",
    "    now lets extract values using the the label \"string index\" \n",
    "\"\"\"\n",
    "list(pokemon.index[:10]) #get the first ten indexes of the series"
   ]
  },
  {
   "cell_type": "code",
   "execution_count": 47,
   "metadata": {},
   "outputs": [
    {
     "name": "stdout",
     "output_type": "stream",
     "text": [
      "Ivysaur : Grass\n",
      "Blastoise : Water\n",
      "Caterpie: Bug\n"
     ]
    }
   ],
   "source": [
    "\"\"\"\n",
    "    now that we have the indexes in a list we will use them in our exxamples\n",
    "\"\"\"\n",
    "print(\"Ivysaur : \" + pokemon['Ivysaur']) #get they type of Ivysaur using the label indexes and print\n",
    "print(\"Blastoise : \" + pokemon['Blastoise']) #get they type of Ivysaur using the label indexes and print\n",
    "print(\"Caterpie: \" + pokemon['Caterpie']) #get they type of Ivysaur using the label indexes and print"
   ]
  },
  {
   "cell_type": "code",
   "execution_count": 48,
   "metadata": {},
   "outputs": [
    {
     "data": {
      "text/plain": [
       "Pokemon\n",
       "Bulbasaur     Grass\n",
       "Ivysaur       Grass\n",
       "Venusaur      Grass\n",
       "Charmander     Fire\n",
       "Charmeleon     Fire\n",
       "Charizard      Fire\n",
       "Squirtle      Water\n",
       "Wartortle     Water\n",
       "Blastoise     Water\n",
       "Caterpie        Bug\n",
       "Name: Type, dtype: object"
      ]
     },
     "execution_count": 48,
     "metadata": {},
     "output_type": "execute_result"
    }
   ],
   "source": [
    "\"\"\"\n",
    "    now that we have seen some egs we can now try getting multiple values\n",
    "    I will take the aboe code that I used to create the list we used for the first\n",
    "    example and pass it to the [list(pokemon.index[:10])] to get the first 10 Items\n",
    "\"\"\"\n",
    "pokemon[list(pokemon.index[:10])] #remeber when you filter pandas creates a new dataframe."
   ]
  },
  {
   "cell_type": "code",
   "execution_count": 49,
   "metadata": {},
   "outputs": [
    {
     "data": {
      "text/plain": [
       "'Fire'"
      ]
     },
     "execution_count": 49,
     "metadata": {},
     "output_type": "execute_result"
    }
   ],
   "source": [
    "pokemon[list(pokemon.index[:10])]['Bulbasaur'] #returns correct results but it is not the best practice\n",
    "#here is the best practive of the above line to make you code clean\n",
    "pok_list = pokemon[list(pokemon.index[:10])] #create the new series\n",
    "pok_list['Charizard'] #now extract"
   ]
  },
  {
   "cell_type": "code",
   "execution_count": 51,
   "metadata": {},
   "outputs": [
    {
     "data": {
      "text/plain": [
       "Pokemon\n",
       "Bulbasaur    Grass\n",
       "Ivysaur      Grass\n",
       "Venusaur     Grass\n",
       "Squirtle     Water\n",
       "Wartortle    Water\n",
       "Blastoise    Water\n",
       "Caterpie       Bug\n",
       "Name: Type, dtype: object"
      ]
     },
     "execution_count": 51,
     "metadata": {},
     "output_type": "execute_result"
    }
   ],
   "source": [
    "#filter the series based on a condition a condition\n",
    "pok_list.values != \"Fire\" #inside the pok_list this will be ran first and it return a bool mask\n",
    "grass_water = pok_list[pok_list.values != \"Fire\"]\n",
    "grass_water #now you have grass and water only."
   ]
  },
  {
   "cell_type": "markdown",
   "metadata": {},
   "source": [
    "### use .get method to extract values from a series"
   ]
  },
  {
   "cell_type": "code",
   "execution_count": null,
   "metadata": {},
   "outputs": [],
   "source": [
    "\"\"\"\n",
    "    re run the  cell  that reads the data\n",
    "\"\"\"\n",
    "pokemon = pd.read_csv(\"pokemon.csv\", index_col=\"Pokemon\", squeeze=True)\n",
    "#the sorting of the index helps pandas to locate values quicly so it is recomended that you sort\n",
    "pokemon.sort_index(inplace=True)\n",
    "pokemon.head()"
   ]
  },
  {
   "cell_type": "code",
   "execution_count": null,
   "metadata": {},
   "outputs": [],
   "source": [
    "pokemon.get(\"Absol\") # get a single values\n",
    "\"\"\"\n",
    "        remember the code inside the [] it creates a list od the first 10 index keys\n",
    "\"\"\"\n",
    "pokemon.get(pokemon[list(pokemon.index[:10])])\n",
    "pokemon[list(pokemon.index[:10])]"
   ]
  },
  {
   "cell_type": "code",
   "execution_count": null,
   "metadata": {},
   "outputs": [],
   "source": [
    "\"\"\"\n",
    "    The Big question is what happens if .get method does not fi the key\n",
    "    that is passed to it, it the  returns a nothing by default but it also has\n",
    "    a parameter called default which we can change to cater for our senario\n",
    "\"\"\"\n",
    "#pokemon[\"not in series\"] #this line will give you an error\n",
    "pokemon.get(\"not in series\", \"not a pokemon\") #when we don't find a pokemon let us return \"not a pokemon\""
   ]
  },
  {
   "cell_type": "markdown",
   "metadata": {},
   "source": [
    "### The math methods that are available on a series"
   ]
  },
  {
   "cell_type": "code",
   "execution_count": 56,
   "metadata": {},
   "outputs": [],
   "source": [
    "google = pd.read_csv(\"google_stock_price.csv\", squeeze=True)"
   ]
  },
  {
   "cell_type": "code",
   "execution_count": 57,
   "metadata": {},
   "outputs": [
    {
     "data": {
      "text/plain": [
       "0    50.12\n",
       "1    54.10\n",
       "2    54.65\n",
       "3    52.38\n",
       "4    52.95\n",
       "Name: Stock Price, dtype: float64"
      ]
     },
     "execution_count": 57,
     "metadata": {},
     "output_type": "execute_result"
    }
   ],
   "source": [
    "google.head()"
   ]
  },
  {
   "cell_type": "code",
   "execution_count": 60,
   "metadata": {},
   "outputs": [
    {
     "data": {
      "text/plain": [
       "3012"
      ]
     },
     "execution_count": 60,
     "metadata": {},
     "output_type": "execute_result"
    }
   ],
   "source": [
    "\"\"\"\n",
    "    count method will return the count of valid values within the series\n",
    "    unlike the len method count excludes the null or missing values\n",
    "    while the len method includes the misssing values when it counts\n",
    "\"\"\"\n",
    "google.count()"
   ]
  },
  {
   "cell_type": "code",
   "execution_count": 61,
   "metadata": {},
   "outputs": [
    {
     "data": {
      "text/plain": [
       "1006942.0"
      ]
     },
     "execution_count": 61,
     "metadata": {},
     "output_type": "execute_result"
    }
   ],
   "source": [
    "\"\"\"\n",
    "    sum method takes all the values in the series and adds them up\n",
    "\"\"\"\n",
    "google.sum()"
   ]
  },
  {
   "cell_type": "code",
   "execution_count": 62,
   "metadata": {},
   "outputs": [
    {
     "data": {
      "text/plain": [
       "334.31009296148744"
      ]
     },
     "execution_count": 62,
     "metadata": {},
     "output_type": "execute_result"
    }
   ],
   "source": [
    "\"\"\"\n",
    "    mean method returns the average of the series which is\n",
    "    the sum of everything divided by the total number of values\n",
    "\"\"\"\n",
    "google.mean()"
   ]
  },
  {
   "cell_type": "code",
   "execution_count": 63,
   "metadata": {},
   "outputs": [
    {
     "data": {
      "text/plain": [
       "334.3100929614874"
      ]
     },
     "execution_count": 63,
     "metadata": {},
     "output_type": "execute_result"
    }
   ],
   "source": [
    "#valideting the mean\n",
    "google.sum()/google.count()"
   ]
  },
  {
   "cell_type": "code",
   "execution_count": 64,
   "metadata": {},
   "outputs": [
    {
     "data": {
      "text/plain": [
       "173.18720477113106"
      ]
     },
     "execution_count": 64,
     "metadata": {},
     "output_type": "execute_result"
    }
   ],
   "source": [
    "\"\"\"\n",
    "        std method with return the amount of variation of a set of values from the mean\n",
    "\"\"\"\n",
    "google.std()"
   ]
  },
  {
   "cell_type": "code",
   "execution_count": 65,
   "metadata": {},
   "outputs": [
    {
     "name": "stdout",
     "output_type": "stream",
     "text": [
      "min : 49.95\n",
      "max : 782.22\n",
      "median : 283.315\n"
     ]
    }
   ],
   "source": [
    "\"\"\"\n",
    "    min, max and median  method min will return the lowest value  and max return\n",
    "    the highest value in the series while the median return the middle most value\n",
    "    (value at the centre) of the series\n",
    "\"\"\"\n",
    "print(\"min : \" + str(google.min()))\n",
    "print(\"max : \" + str(google.max()))\n",
    "print(\"median : \" + str(google.median()))"
   ]
  },
  {
   "cell_type": "code",
   "execution_count": 66,
   "metadata": {},
   "outputs": [
    {
     "data": {
      "text/plain": [
       "0    291.21\n",
       "dtype: float64"
      ]
     },
     "execution_count": 66,
     "metadata": {},
     "output_type": "execute_result"
    }
   ],
   "source": [
    "#mode returns the value that occurs the most in the series\n",
    "google.mode()"
   ]
  },
  {
   "cell_type": "code",
   "execution_count": 67,
   "metadata": {},
   "outputs": [
    {
     "data": {
      "text/plain": [
       "count    3012.000000\n",
       "mean      334.310093\n",
       "std       173.187205\n",
       "min        49.950000\n",
       "25%       218.045000\n",
       "50%       283.315000\n",
       "75%       443.000000\n",
       "max       782.220000\n",
       "Name: Stock Price, dtype: float64"
      ]
     },
     "execution_count": 67,
     "metadata": {},
     "output_type": "execute_result"
    }
   ],
   "source": [
    "\"\"\"\n",
    "    Describe method does a lot of calculations and makes a summary of all the \n",
    "    calculated stats\n",
    "\"\"\"\n",
    "google.describe()"
   ]
  },
  {
   "cell_type": "code",
   "execution_count": 68,
   "metadata": {},
   "outputs": [
    {
     "data": {
      "text/plain": [
       "'there are a lot of method that you can use on a pandas series'"
      ]
     },
     "execution_count": 68,
     "metadata": {},
     "output_type": "execute_result"
    }
   ],
   "source": [
    "\"\"\"there are a lot of method that you can use on a pandas series\"\"\""
   ]
  },
  {
   "cell_type": "markdown",
   "metadata": {},
   "source": [
    "#### The .idxmax() and .idmin() Methods"
   ]
  },
  {
   "cell_type": "code",
   "execution_count": 76,
   "metadata": {},
   "outputs": [
    {
     "data": {
      "text/plain": [
       "11"
      ]
     },
     "execution_count": 76,
     "metadata": {},
     "output_type": "execute_result"
    }
   ],
   "source": [
    "\"\"\"\n",
    "    the .idxmax method will return the index position that is storing the maximum\n",
    "    value in the series\n",
    "    while the .idxmin method will return the index where min is located\n",
    "\"\"\"\n",
    "google.idxmax() #max\n",
    "google.idxmin() #min"
   ]
  },
  {
   "cell_type": "code",
   "execution_count": 80,
   "metadata": {},
   "outputs": [
    {
     "data": {
      "text/plain": [
       "49.95"
      ]
     },
     "execution_count": 80,
     "metadata": {},
     "output_type": "execute_result"
    }
   ],
   "source": [
    "google[google.idxmax()] #exxtract the value at the highest index\n",
    "google[google.idxmin()] #extracting the value at the lowest index"
   ]
  },
  {
   "cell_type": "markdown",
   "metadata": {},
   "source": [
    "### The .value_counts() Method"
   ]
  },
  {
   "cell_type": "code",
   "execution_count": 84,
   "metadata": {},
   "outputs": [],
   "source": [
    "pokemon = pd.read_csv(\"pokemon.csv\", index_col=\"Pokemon\", squeeze=True)"
   ]
  },
  {
   "cell_type": "code",
   "execution_count": 85,
   "metadata": {},
   "outputs": [
    {
     "data": {
      "text/plain": [
       "Pokemon\n",
       "Bulbasaur     Grass\n",
       "Ivysaur       Grass\n",
       "Venusaur      Grass\n",
       "Charmander     Fire\n",
       "Charmeleon     Fire\n",
       "Name: Type, dtype: object"
      ]
     },
     "execution_count": 85,
     "metadata": {},
     "output_type": "execute_result"
    }
   ],
   "source": [
    "pokemon.head()"
   ]
  },
  {
   "cell_type": "code",
   "execution_count": 87,
   "metadata": {},
   "outputs": [
    {
     "data": {
      "text/plain": [
       "Water       105\n",
       "Normal       93\n",
       "Grass        66\n",
       "Bug          63\n",
       "Psychic      47\n",
       "Fire         47\n",
       "Rock         41\n",
       "Electric     36\n",
       "Ground       30\n",
       "Dark         28\n",
       "Poison       28\n",
       "Fighting     25\n",
       "Dragon       24\n",
       "Ghost        23\n",
       "Ice          23\n",
       "Steel        22\n",
       "Fairy        17\n",
       "Flying        3\n",
       "Name: Type, dtype: int64"
      ]
     },
     "execution_count": 87,
     "metadata": {},
     "output_type": "execute_result"
    }
   ],
   "source": [
    "\"\"\"\n",
    "    the .value_counts method will calculate the number of occurances of an event\n",
    "    in a series value counts is the best method to use\n",
    "    (take unique balues and count how many times they occur in the series)\n",
    "\"\"\"\n",
    "pokemon.value_counts()"
   ]
  },
  {
   "cell_type": "code",
   "execution_count": 89,
   "metadata": {},
   "outputs": [
    {
     "data": {
      "text/plain": [
       "Flying        3\n",
       "Fairy        17\n",
       "Steel        22\n",
       "Ice          23\n",
       "Ghost        23\n",
       "Dragon       24\n",
       "Fighting     25\n",
       "Poison       28\n",
       "Dark         28\n",
       "Ground       30\n",
       "Electric     36\n",
       "Rock         41\n",
       "Fire         47\n",
       "Psychic      47\n",
       "Bug          63\n",
       "Grass        66\n",
       "Normal       93\n",
       "Water       105\n",
       "Name: Type, dtype: int64"
      ]
     },
     "execution_count": 89,
     "metadata": {},
     "output_type": "execute_result"
    }
   ],
   "source": [
    "#passing a few parameter to the value counts methods\n",
    "pokemon.value_counts(ascending=True,dropna=False)"
   ]
  },
  {
   "cell_type": "markdown",
   "metadata": {},
   "source": [
    "### THe .apply Method"
   ]
  },
  {
   "cell_type": "code",
   "execution_count": 91,
   "metadata": {},
   "outputs": [
    {
     "data": {
      "text/plain": [
       "0    50.12\n",
       "1    54.10\n",
       "2    54.65\n",
       "3    52.38\n",
       "4    52.95\n",
       "Name: Stock Price, dtype: float64"
      ]
     },
     "execution_count": 91,
     "metadata": {},
     "output_type": "execute_result"
    }
   ],
   "source": [
    "google = pd.read_csv(\"google_stock_price.csv\", squeeze=True)\n",
    "google.head()"
   ]
  },
  {
   "cell_type": "code",
   "execution_count": 92,
   "metadata": {},
   "outputs": [],
   "source": [
    "#let us create a custom function then apply it to the pandas series\n",
    "def classify_performance(num):\n",
    "    if num < 300:\n",
    "        return \"OK\"\n",
    "    elif num >=300 and num  < 650:\n",
    "        return \"Satisfactory\"\n",
    "    else:\n",
    "        return \"Incredible\""
   ]
  },
  {
   "cell_type": "code",
   "execution_count": 94,
   "metadata": {},
   "outputs": [
    {
     "data": {
      "text/plain": [
       "OK              1721\n",
       "Satisfactory    1075\n",
       "Incredible       216\n",
       "Name: Stock Price, dtype: int64"
      ]
     },
     "execution_count": 94,
     "metadata": {},
     "output_type": "execute_result"
    }
   ],
   "source": [
    "google.apply(classify_performance).value_counts()"
   ]
  },
  {
   "cell_type": "code",
   "execution_count": 97,
   "metadata": {},
   "outputs": [
    {
     "data": {
      "text/plain": [
       "0    51.12\n",
       "1    55.10\n",
       "2    55.65\n",
       "3    53.38\n",
       "4    53.95\n",
       "Name: Stock Price, dtype: float64"
      ]
     },
     "execution_count": 97,
     "metadata": {},
     "output_type": "execute_result"
    }
   ],
   "source": [
    "\"\"\"\n",
    "    if we have somethin simpler we can apply an anonimus function\n",
    "\"\"\"\n",
    "google.apply(lambda stock_price: stock_price + 1).head()"
   ]
  },
  {
   "cell_type": "markdown",
   "metadata": {},
   "source": [
    "### The .map Method "
   ]
  },
  {
   "cell_type": "code",
   "execution_count": 106,
   "metadata": {},
   "outputs": [
    {
     "data": {
      "text/plain": [
       "0     Bulbasaur\n",
       "1       Ivysaur\n",
       "2      Venusaur\n",
       "3    Charmander\n",
       "4    Charmeleon\n",
       "Name: Pokemon, dtype: object"
      ]
     },
     "execution_count": 106,
     "metadata": {},
     "output_type": "execute_result"
    }
   ],
   "source": [
    "pokemon_names = pd.read_csv(\"pokemon.csv\", usecols=[\"Pokemon\"], squeeze=True)\n",
    "pokemon_names.head()"
   ]
  },
  {
   "cell_type": "code",
   "execution_count": 107,
   "metadata": {},
   "outputs": [
    {
     "data": {
      "text/plain": [
       "Pokemon\n",
       "Bulbasaur     Grass\n",
       "Ivysaur       Grass\n",
       "Venusaur      Grass\n",
       "Charmander     Fire\n",
       "Charmeleon     Fire\n",
       "Name: Type, dtype: object"
      ]
     },
     "execution_count": 107,
     "metadata": {},
     "output_type": "execute_result"
    }
   ],
   "source": [
    "pokemon_types = pd.read_csv(\"pokemon.csv\", index_col=\"Pokemon\", squeeze=True)\n",
    "pokemon_types.head()"
   ]
  },
  {
   "cell_type": "code",
   "execution_count": 112,
   "metadata": {},
   "outputs": [
    {
     "data": {
      "text/plain": [
       "0    Grass\n",
       "1    Grass\n",
       "2    Grass\n",
       "3     Fire\n",
       "4     Fire\n",
       "Name: Pokemon, dtype: object"
      ]
     },
     "execution_count": 112,
     "metadata": {},
     "output_type": "execute_result"
    }
   ],
   "source": [
    "\"\"\"\n",
    "    from the same csv we have read the data in different way in so that we\n",
    "    can demonstrate how the map method works.\n",
    "    from the pokemon_names we will map the pokemon types..\n",
    "    map will take the values in pokemon_names, and check if they exist on pokemon_types\n",
    "    then it will return the values in pokemon_types\n",
    "\"\"\"\n",
    "pokemon_names.map(pokemon_types).head()"
   ]
  },
  {
   "cell_type": "code",
   "execution_count": 113,
   "metadata": {},
   "outputs": [],
   "source": [
    "\"\"\"\n",
    "    here we will be looking at the application of map in a different context\n",
    "    we will map the values of a series from a dictionary\n",
    "\"\"\"\n",
    "pokemon_names = pd.read_csv(\"pokemon.csv\", usecols=[\"Pokemon\"], squeeze=True)\n",
    "pokemon_types = pd.read_csv(\"pokemon.csv\", index_col=\"Pokemon\", squeeze=True).to_dict()"
   ]
  },
  {
   "cell_type": "code",
   "execution_count": 114,
   "metadata": {},
   "outputs": [
    {
     "data": {
      "text/plain": [
       "0     Bulbasaur\n",
       "1       Ivysaur\n",
       "2      Venusaur\n",
       "3    Charmander\n",
       "4    Charmeleon\n",
       "Name: Pokemon, dtype: object"
      ]
     },
     "execution_count": 114,
     "metadata": {},
     "output_type": "execute_result"
    }
   ],
   "source": [
    "pokemon_names.head()"
   ]
  },
  {
   "cell_type": "code",
   "execution_count": 120,
   "metadata": {},
   "outputs": [],
   "source": [
    "pokemon_types"
   ]
  },
  {
   "cell_type": "code",
   "execution_count": 122,
   "metadata": {},
   "outputs": [
    {
     "data": {
      "text/plain": [
       "0    Grass\n",
       "1    Grass\n",
       "2    Grass\n",
       "3     Fire\n",
       "4     Fire\n",
       "Name: Pokemon, dtype: object"
      ]
     },
     "execution_count": 122,
     "metadata": {},
     "output_type": "execute_result"
    }
   ],
   "source": [
    "\"\"\"\n",
    "    the behid the scene method is the same to the above.\n",
    "    but now what happens is that the map looks for these values from \n",
    "    the keys a dictionary unlike in a pandas series where it looks for\n",
    "    those values from the index of the series\n",
    "\"\"\"\n",
    "pokemon_names.map(pokemon_types).head()"
   ]
  },
  {
   "cell_type": "code",
   "execution_count": null,
   "metadata": {},
   "outputs": [],
   "source": []
  }
 ],
 "metadata": {
  "kernelspec": {
   "display_name": "Python 3",
   "language": "python",
   "name": "python3"
  },
  "language_info": {
   "codemirror_mode": {
    "name": "ipython",
    "version": 3
   },
   "file_extension": ".py",
   "mimetype": "text/x-python",
   "name": "python",
   "nbconvert_exporter": "python",
   "pygments_lexer": "ipython3",
   "version": "3.6.8"
  }
 },
 "nbformat": 4,
 "nbformat_minor": 2
}
